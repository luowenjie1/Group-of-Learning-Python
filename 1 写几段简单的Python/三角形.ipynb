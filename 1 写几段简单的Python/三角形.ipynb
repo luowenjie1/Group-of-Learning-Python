{
 "cells": [
  {
   "cell_type": "markdown",
   "id": "fcded3ee",
   "metadata": {},
   "source": [
    "# 关于这个文档...\n",
    "\n",
    "## 通过计算三角形的面积了解python的以下几个内容\n",
    "   * 导入包\n",
    "   * 赋值、运算、\n",
    "   * 条件语句：判断是不是三角形\n",
    "   * 函数：写一个函数计算三角形的面积\n",
    "   * 列表：保存几个三角形\n",
    "   * 循环：计算几个三角形的面积\n",
    "   * 画图：画出这个三角形长什么样\n",
    "   * 类：知道属性和方法"
   ]
  },
  {
   "cell_type": "markdown",
   "id": "79d95f17",
   "metadata": {},
   "source": [
    "# 计算三角形面积\n",
    "\n",
    "海伦公式：\n",
    "\n",
    "$S = \\sqrt{p\\times(p-a)\\times(p-b)\\times(p-c)}$\n",
    "\n",
    "$p = \\frac{a+b+c}{2}$"
   ]
  },
  {
   "cell_type": "code",
   "execution_count": 1,
   "id": "1d09e686",
   "metadata": {},
   "outputs": [],
   "source": [
    "import math"
   ]
  },
  {
   "cell_type": "code",
   "execution_count": 2,
   "id": "3ed10119",
   "metadata": {},
   "outputs": [],
   "source": [
    "a = 2\n",
    "b = 2 \n",
    "c = 3"
   ]
  },
  {
   "cell_type": "code",
   "execution_count": 3,
   "id": "37213365",
   "metadata": {},
   "outputs": [],
   "source": [
    "p = (a + b + c) / 2"
   ]
  },
  {
   "cell_type": "code",
   "execution_count": 4,
   "id": "16fc410d",
   "metadata": {},
   "outputs": [
    {
     "data": {
      "text/plain": [
       "1.984313483298443"
      ]
     },
     "execution_count": 4,
     "metadata": {},
     "output_type": "execute_result"
    }
   ],
   "source": [
    "s = (p * (p-a) * (p-b) * (p-c)) ** 0.5\n",
    "s"
   ]
  },
  {
   "cell_type": "code",
   "execution_count": 5,
   "id": "d5f072db",
   "metadata": {},
   "outputs": [
    {
     "data": {
      "text/plain": [
       "1.984313483298443"
      ]
     },
     "execution_count": 5,
     "metadata": {},
     "output_type": "execute_result"
    }
   ],
   "source": [
    "s = pow(p * (p-a) * (p-b) * (p-c), 0.5)\n",
    "s"
   ]
  },
  {
   "cell_type": "code",
   "execution_count": 6,
   "id": "c3056735",
   "metadata": {},
   "outputs": [
    {
     "data": {
      "text/plain": [
       "1.984313483298443"
      ]
     },
     "execution_count": 6,
     "metadata": {},
     "output_type": "execute_result"
    }
   ],
   "source": [
    "s = math.sqrt(p * (p-a) * (p-b) * (p-c))\n",
    "s"
   ]
  },
  {
   "cell_type": "markdown",
   "id": "fe9e852c",
   "metadata": {},
   "source": [
    "# 条件：是不是三角形\n",
    "\n",
    "任意两边和大于第三边\n",
    "\n",
    "## 注意：Python使用非常严格的缩进——4个空格"
   ]
  },
  {
   "cell_type": "code",
   "execution_count": 7,
   "id": "384038f2",
   "metadata": {},
   "outputs": [
    {
     "name": "stdout",
     "output_type": "stream",
     "text": [
      "1.984313483298443\n"
     ]
    }
   ],
   "source": [
    "if (a+b>c) and (a+c>b) and (b+c>a):\n",
    "    p = (a + b + c) / 2\n",
    "    s = pow(p * (p-a) * (p-b) * (p-c), 0.5)\n",
    "    print(s)\n",
    "else:\n",
    "    print('不是三角形')\n"
   ]
  },
  {
   "cell_type": "markdown",
   "id": "ea788f7d",
   "metadata": {},
   "source": [
    "# 函数"
   ]
  },
  {
   "cell_type": "code",
   "execution_count": 8,
   "id": "db621c8f",
   "metadata": {},
   "outputs": [],
   "source": [
    "def cal_square(a,b,c):\n",
    "    if (a+b>c) and (a+c>b) and (b+c>a):\n",
    "        p = (a + b + c) / 2\n",
    "        s = pow(p * (p-a) * (p-b) * (p-c), 0.5)\n",
    "        print(s)\n",
    "    else:\n",
    "        return False"
   ]
  },
  {
   "cell_type": "code",
   "execution_count": 9,
   "id": "ea1bd98b",
   "metadata": {},
   "outputs": [
    {
     "name": "stdout",
     "output_type": "stream",
     "text": [
      "0.4330127018922193\n"
     ]
    }
   ],
   "source": [
    "cal_square(1,1,1)"
   ]
  },
  {
   "cell_type": "markdown",
   "id": "ef926fa6",
   "metadata": {},
   "source": [
    "# 列表"
   ]
  },
  {
   "cell_type": "code",
   "execution_count": 10,
   "id": "80435f81",
   "metadata": {},
   "outputs": [],
   "source": [
    "triangle1 = [1,2,3]\n",
    "\n",
    "triangle2 = [2,2,2]\n",
    "\n",
    "triangle3 = [3,4,5]\n",
    "\n",
    "triangle4 = [4,5,6]"
   ]
  },
  {
   "cell_type": "markdown",
   "id": "5671a454",
   "metadata": {},
   "source": [
    "列表里的列表"
   ]
  },
  {
   "cell_type": "code",
   "execution_count": 11,
   "id": "64d15585",
   "metadata": {},
   "outputs": [
    {
     "data": {
      "text/plain": [
       "[[1, 2, 3], [2, 2, 2], [3, 4, 5], [4, 5, 6]]"
      ]
     },
     "execution_count": 11,
     "metadata": {},
     "output_type": "execute_result"
    }
   ],
   "source": [
    "triangle = [triangle1, triangle2, triangle3, triangle4]\n",
    "triangle"
   ]
  },
  {
   "cell_type": "code",
   "execution_count": 12,
   "id": "0cef3cab",
   "metadata": {},
   "outputs": [
    {
     "data": {
      "text/plain": [
       "[1, 2, 3, 2, 2, 2, 3, 4, 5, 4, 5, 6]"
      ]
     },
     "execution_count": 12,
     "metadata": {},
     "output_type": "execute_result"
    }
   ],
   "source": [
    "triangle = triangle1 + triangle2 + triangle3 + triangle4\n",
    "triangle"
   ]
  },
  {
   "cell_type": "code",
   "execution_count": 13,
   "id": "347467c7",
   "metadata": {},
   "outputs": [
    {
     "data": {
      "text/plain": [
       "[[1, 2, 3]]"
      ]
     },
     "execution_count": 13,
     "metadata": {},
     "output_type": "execute_result"
    }
   ],
   "source": [
    "triangle = []\n",
    "triangle.append(triangle1)\n",
    "triangle"
   ]
  },
  {
   "cell_type": "code",
   "execution_count": 14,
   "id": "ef2276b6",
   "metadata": {},
   "outputs": [
    {
     "data": {
      "text/plain": [
       "[[1, 2, 3], [2, 2, 2], [3, 4, 5], [4, 5, 6]]"
      ]
     },
     "execution_count": 14,
     "metadata": {},
     "output_type": "execute_result"
    }
   ],
   "source": [
    "triangle.append(triangle2)\n",
    "triangle.append(triangle3)\n",
    "triangle.append(triangle4)\n",
    "triangle"
   ]
  },
  {
   "cell_type": "markdown",
   "id": "93ab09b3",
   "metadata": {},
   "source": [
    "列表里有什么？"
   ]
  },
  {
   "cell_type": "code",
   "execution_count": 15,
   "id": "94a4a593",
   "metadata": {},
   "outputs": [
    {
     "data": {
      "text/plain": [
       "2"
      ]
     },
     "execution_count": 15,
     "metadata": {},
     "output_type": "execute_result"
    }
   ],
   "source": [
    "triangle[1][1]"
   ]
  },
  {
   "cell_type": "code",
   "execution_count": 16,
   "id": "01493ad8",
   "metadata": {
    "scrolled": true
   },
   "outputs": [
    {
     "data": {
      "text/plain": [
       "[[2, 2, 2], [3, 4, 5], [4, 5, 6]]"
      ]
     },
     "execution_count": 16,
     "metadata": {},
     "output_type": "execute_result"
    }
   ],
   "source": [
    "triangle[1:]"
   ]
  },
  {
   "cell_type": "code",
   "execution_count": 17,
   "id": "db20ddcd",
   "metadata": {},
   "outputs": [],
   "source": [
    "sjx = [[1,2,3], [2,2,2], [3,4,5], [4,5,6]]"
   ]
  },
  {
   "cell_type": "code",
   "execution_count": 18,
   "id": "08c977f9",
   "metadata": {
    "scrolled": true
   },
   "outputs": [
    {
     "data": {
      "text/plain": [
       "list"
      ]
     },
     "execution_count": 18,
     "metadata": {},
     "output_type": "execute_result"
    }
   ],
   "source": [
    "type(sjx)"
   ]
  },
  {
   "cell_type": "code",
   "execution_count": 19,
   "id": "ace66dae",
   "metadata": {},
   "outputs": [],
   "source": [
    "def cal_square(bian):\n",
    "    a = bian[0]\n",
    "    b = bian[1]\n",
    "    c = bian[2]\n",
    "    if (a+b>c) and (a+c>b) and (b+c>a):\n",
    "        p = (a + b + c) / 2\n",
    "        s = pow(p * (p-a) * (p-b) * (p-c), 0.5)\n",
    "        print(s)\n",
    "    else:\n",
    "        print('不是三角形')"
   ]
  },
  {
   "cell_type": "markdown",
   "id": "ce7af173",
   "metadata": {},
   "source": [
    "# 循环、遍历列表"
   ]
  },
  {
   "cell_type": "code",
   "execution_count": 20,
   "id": "32d5545c",
   "metadata": {},
   "outputs": [
    {
     "name": "stdout",
     "output_type": "stream",
     "text": [
      "不是三角形\n",
      "1.7320508075688772\n",
      "6.0\n",
      "9.921567416492215\n"
     ]
    }
   ],
   "source": [
    "for i in sjx:\n",
    "    cal_square(i)"
   ]
  },
  {
   "cell_type": "markdown",
   "id": "7910c8df",
   "metadata": {},
   "source": [
    "# 三角形周长"
   ]
  },
  {
   "cell_type": "code",
   "execution_count": 21,
   "id": "2f79d216",
   "metadata": {
    "scrolled": true
   },
   "outputs": [
    {
     "name": "stdout",
     "output_type": "stream",
     "text": [
      "6\n",
      "6\n",
      "12\n",
      "15\n"
     ]
    }
   ],
   "source": [
    "for i in sjx:\n",
    "    print(sum(i))"
   ]
  },
  {
   "cell_type": "markdown",
   "id": "393ce7de",
   "metadata": {},
   "source": [
    "# 绘制三角形\n",
    "\n",
    "余弦定理\n",
    "\n",
    "$cos\\alpha = \\frac{b^2+c^2-a^2}{2bc}$"
   ]
  },
  {
   "cell_type": "code",
   "execution_count": 22,
   "id": "d895c5f7",
   "metadata": {},
   "outputs": [
    {
     "data": {
      "text/plain": [
       "41.40962210927086"
      ]
     },
     "execution_count": 22,
     "metadata": {},
     "output_type": "execute_result"
    }
   ],
   "source": [
    "cos = (b**2 + c**2 - a**2) / (2 * b * c)\n",
    "angle = math.acos(cos)\n",
    "math.degrees(angle)"
   ]
  },
  {
   "cell_type": "code",
   "execution_count": 23,
   "id": "3c15562a",
   "metadata": {},
   "outputs": [],
   "source": [
    "a = 2\n",
    "b = 2 \n",
    "c = 3"
   ]
  },
  {
   "cell_type": "code",
   "execution_count": 24,
   "id": "3e4288d1",
   "metadata": {},
   "outputs": [],
   "source": [
    "pi = math.pi\n",
    "if angle < pi/2:\n",
    "    x3 = c * math.sin(angle)\n",
    "    y3 = c * math.cos(angle)\n",
    "elif angle > pi/2:\n",
    "    x3 = c * math.sin(pi - angle)\n",
    "    y3 = c * math.cos(pi - angle)\n",
    "elif angle == pi/2:\n",
    "    x3 = c\n",
    "    y3 = 0"
   ]
  },
  {
   "cell_type": "code",
   "execution_count": 25,
   "id": "b87c635a",
   "metadata": {},
   "outputs": [],
   "source": [
    "x = [0, 0, x3]\n",
    "y = [0, b, y3]"
   ]
  },
  {
   "cell_type": "code",
   "execution_count": 26,
   "id": "81ba2f0a",
   "metadata": {},
   "outputs": [
    {
     "data": {
      "text/plain": [
       "([0, 0, 1.984313483298443], [0, 2, 2.25])"
      ]
     },
     "execution_count": 26,
     "metadata": {},
     "output_type": "execute_result"
    }
   ],
   "source": [
    "x, y"
   ]
  },
  {
   "cell_type": "code",
   "execution_count": 27,
   "id": "7fe11e87",
   "metadata": {},
   "outputs": [],
   "source": [
    "import matplotlib.pyplot as plt"
   ]
  },
  {
   "cell_type": "code",
   "execution_count": 28,
   "id": "bfc57b3c",
   "metadata": {},
   "outputs": [
    {
     "data": {
      "image/png": "[encoded data removed]",
      "text/plain": [
       "<Figure size 432x288 with 1 Axes>"
      ]
     },
     "metadata": {
      "needs_background": "light"
     },
     "output_type": "display_data"
    }
   ],
   "source": [
    "plt.triplot(x, y)\n",
    "plt.axis('equal')\n",
    "plt.show()"
   ]
  },
  {
   "cell_type": "markdown",
   "id": "012f01ac",
   "metadata": {},
   "source": [
    "# 类\n",
    "\n",
    "把三角形理解为一个“对象”\n",
    "\n",
    "属性：三边长\n",
    "\n",
    "方法：计算周长、面积、绘图"
   ]
  },
  {
   "cell_type": "code",
   "execution_count": 29,
   "id": "69ee1f65",
   "metadata": {},
   "outputs": [],
   "source": [
    "import matplotlib.pyplot as plt\n",
    "import math\n",
    "\n",
    "class Triangle:\n",
    "\n",
    "    def __init__(self, a, b, c):\n",
    "        self.a = a\n",
    "        self.b = b\n",
    "        self.c = c\n",
    "\n",
    "    def is_triangle(self):\n",
    "        if (self.a + self.b > self.c) and (self.a + self.c > self.b) and (self.b + self.c > self.a):\n",
    "            return True\n",
    "        else:\n",
    "            return False\n",
    "\n",
    "    def cal_square(self):\n",
    "        if self.is_triangle():\n",
    "            p = (self.a + self.b + self.c) / 2\n",
    "            s = pow(p * (p-self.a) * (p-self.b) * (p-self.c), 0.5)\n",
    "            return s\n",
    "        else:\n",
    "            return False\n",
    "    \n",
    "    def plot_triangle(self):\n",
    "        if self.is_triangle():\n",
    "            cos = (self.b**2 + self.c**2 - self.a**2) / (2 * self.b * self.c)\n",
    "            angle = math.acos(cos)\n",
    "            math.degrees(angle)\n",
    "\n",
    "            pi = math.pi\n",
    "            if angle < pi/2:\n",
    "                x3 = self.c * math.sin(angle)\n",
    "                y3 = self.c * math.cos(angle)\n",
    "            elif angle > pi/2:\n",
    "                x3 = self.c * math.sin(pi - angle)\n",
    "                y3 = self.c * math.cos(pi - angle)\n",
    "            elif angle == pi/2:\n",
    "                x3 = self.c\n",
    "                y3 = 0\n",
    "\n",
    "            x = [0, 0, x3]\n",
    "            y = [0, self.b, y3]\n",
    "            \n",
    "            plt.triplot(x, y)\n",
    "            plt.axis('equal')\n",
    "            plt.show()\n",
    "            \n",
    "        else:\n",
    "            return False\n"
   ]
  },
  {
   "cell_type": "code",
   "execution_count": 30,
   "id": "36dabdb1",
   "metadata": {},
   "outputs": [],
   "source": [
    "triangle123 = Triangle(3,4,6)"
   ]
  },
  {
   "cell_type": "code",
   "execution_count": 31,
   "id": "58a33c49",
   "metadata": {},
   "outputs": [
    {
     "data": {
      "text/plain": [
       "5.332682251925386"
      ]
     },
     "execution_count": 31,
     "metadata": {},
     "output_type": "execute_result"
    }
   ],
   "source": [
    "triangle123.cal_square()"
   ]
  },
  {
   "cell_type": "code",
   "execution_count": 32,
   "id": "f8d51c64",
   "metadata": {},
   "outputs": [
    {
     "data": {
      "image/png": "[encoded data removed]",
      "text/plain": [
       "<Figure size 432x288 with 1 Axes>"
      ]
     },
     "metadata": {
      "needs_background": "light"
     },
     "output_type": "display_data"
    }
   ],
   "source": [
    "triangle123.plot_triangle()"
   ]
  }
 ],
 "metadata": {
  "interpreter": {
   "hash": "dfeb5fcea9ba174c2dff50af2808642f83d4cd0e320625883d61b9a6e4fa1716"
  },
  "kernelspec": {
   "display_name": "Python 3 (ipykernel)",
   "language": "python",
   "name": "python3"
  },
  "language_info": {
   "codemirror_mode": {
    "name": "ipython",
    "version": 3
   },
   "file_extension": ".py",
   "mimetype": "text/x-python",
   "name": "python",
   "nbconvert_exporter": "python",
   "pygments_lexer": "ipython3",
   "version": "3.8.13"
  }
 },
 "nbformat": 4,
 "nbformat_minor": 5
}
