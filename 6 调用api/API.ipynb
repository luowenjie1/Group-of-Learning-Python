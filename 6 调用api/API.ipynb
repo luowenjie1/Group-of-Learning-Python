{
 "cells": [
  {
   "cell_type": "markdown",
   "id": "bc921640",
   "metadata": {},
   "source": [
    "# API"
   ]
  },
  {
   "cell_type": "markdown",
   "id": "16f62811",
   "metadata": {},
   "source": [
    "# Dict"
   ]
  },
  {
   "cell_type": "markdown",
   "id": "a99df9e8",
   "metadata": {},
   "source": [
    "字典的每个键值 key:value 对用冒号 : 分割，每个键值对之间用逗号 , 分割，整个字典包括在花括号 {} 中 ,格式如下所示：\\\n",
    "`d = {key1 : value1, key2 : value2 }`"
   ]
  },
  {
   "cell_type": "code",
   "execution_count": 1,
   "id": "372ecf01",
   "metadata": {},
   "outputs": [
    {
     "name": "stdout",
     "output_type": "stream",
     "text": [
      "{'NAME': 'ZY'}\n"
     ]
    },
    {
     "data": {
      "text/plain": [
       "'ZY'"
      ]
     },
     "execution_count": 1,
     "metadata": {},
     "output_type": "execute_result"
    }
   ],
   "source": [
    "dict = {'NAME' : 'ZY'}\n",
    "print(dict)\n",
    "dict['NAME']"
   ]
  },
  {
   "cell_type": "markdown",
   "id": "2d05f9a3",
   "metadata": {},
   "source": [
    "字典可以嵌套"
   ]
  },
  {
   "cell_type": "code",
   "execution_count": 2,
   "id": "7a5a6079",
   "metadata": {},
   "outputs": [
    {
     "name": "stdout",
     "output_type": "stream",
     "text": [
      "{'Primary': 'School A', 'Middle': 'School B'}\n",
      "School A\n"
     ]
    }
   ],
   "source": [
    "dict1 = {'NAME':'ZY','SCHOOL':{'Primary':'School A','Middle':'School B'}}\n",
    "print(dict1['SCHOOL'])\n",
    "print(dict1['SCHOOL']['Primary'])"
   ]
  },
  {
   "cell_type": "markdown",
   "id": "a801a975",
   "metadata": {},
   "source": [
    "# JSON\n",
    "xxx.json"
   ]
  },
  {
   "cell_type": "markdown",
   "id": "8f3e9c28",
   "metadata": {},
   "source": [
    "JSON（JavaScript Object Notation, JS对象简谱）是一种轻量级的数据交换格式.\n",
    "`{\n",
    "     \"firstName\": \"John\",\n",
    "     \"lastName\": \"Smith\",\n",
    "     \"sex\": \"male\",\n",
    "     \"age\": 25,\n",
    "     \"address\": \n",
    "     {\n",
    "         \"streetAddress\": \"21 2nd Street\",\n",
    "         \"city\": \"New York\",\n",
    "         \"state\": \"NY\",\n",
    "         \"postalCode\": \"10021\"\n",
    "     },\n",
    "     \"phoneNumber\": \n",
    "     [\n",
    "         {\n",
    "           \"type\": \"home\",\n",
    "           \"number\": \"212 555-1234\"\n",
    "         },\n",
    "         {\n",
    "           \"type\": \"fax\",\n",
    "           \"number\": \"646 555-4567\"\n",
    "         }\n",
    "     ]\n",
    " }`"
   ]
  },
  {
   "cell_type": "code",
   "execution_count": 3,
   "id": "1d218db7",
   "metadata": {},
   "outputs": [],
   "source": [
    "JSON = {\n",
    "     \"firstName\": \"John\",\n",
    "     \"lastName\": \"Smith\",\n",
    "     \"sex\": \"male\",\n",
    "     \"age\": 25,\n",
    "     \"address\": \n",
    "     {\n",
    "         \"streetAddress\": \"21 2nd Street\",\n",
    "         \"city\": \"New York\",\n",
    "         \"state\": \"NY\",\n",
    "         \"postalCode\": \"10021\"\n",
    "     },\n",
    "     \"phoneNumber\": \n",
    "     [\n",
    "         {\n",
    "           \"type\": \"home\",\n",
    "           \"number\": \"212 555-1234\"\n",
    "         },\n",
    "         {\n",
    "           \"type\": \"fax\",\n",
    "           \"number\": \"646 555-4567\"\n",
    "         }\n",
    "     ]\n",
    " }"
   ]
  },
  {
   "cell_type": "code",
   "execution_count": 4,
   "id": "9bcb350a",
   "metadata": {},
   "outputs": [
    {
     "data": {
      "text/plain": [
       "'John'"
      ]
     },
     "execution_count": 4,
     "metadata": {},
     "output_type": "execute_result"
    }
   ],
   "source": [
    "JSON['firstName']"
   ]
  },
  {
   "cell_type": "code",
   "execution_count": 5,
   "id": "d253b225",
   "metadata": {},
   "outputs": [
    {
     "data": {
      "text/plain": [
       "'212 555-1234'"
      ]
     },
     "execution_count": 5,
     "metadata": {},
     "output_type": "execute_result"
    }
   ],
   "source": [
    "JSON['phoneNumber'][0]['number']"
   ]
  },
  {
   "cell_type": "markdown",
   "id": "8271308d",
   "metadata": {},
   "source": [
    "# Dict and JSON\n",
    "Source: *https://blog.csdn.net/qq_33689414/article/details/78307018* \n",
    "\n",
    "Python之dict(或对象)与json之间的互相转化\n",
    "\n",
    "在Python语言中，json数据与dict字典以及对象之间的转化，是必不可少的操作。\n",
    "\n",
    "在Python中自带json库。通过import json导入。\n",
    "\n",
    "在json模块有2个方法，\n",
    "\n",
    "`loads()`：将json数据转化成dict数据\n",
    "\n",
    "`dumps()`：将dict数据转化成json数据\n",
    "\n",
    "`load()`：读取json文件数据，转成dict数据\n",
    "\n",
    "`dump()`：将dict数据转化成json数据后写入json文件"
   ]
  },
  {
   "cell_type": "markdown",
   "id": "f0326a96",
   "metadata": {},
   "source": [
    "## dict字典转json数据"
   ]
  },
  {
   "cell_type": "code",
   "execution_count": 3,
   "id": "9583e0b5",
   "metadata": {},
   "outputs": [
    {
     "name": "stdout",
     "output_type": "stream",
     "text": [
      "{'name': 'many', 'age': 10, 'sex': 'male'}\n",
      "{\"name\": \"many\", \"age\": 10, \"sex\": \"male\"}\n"
     ]
    }
   ],
   "source": [
    "import json\n",
    "\n",
    "dict = {}\n",
    "dict['name'] = 'many'\n",
    "dict['age'] = 10\n",
    "dict['sex'] = 'male'\n",
    "print(dict)  # 输出：{'name': 'many', 'age': 10, 'sex': 'male'}\n",
    "j = json.dumps(dict)\n",
    "print(j)  # 输出：{\"name\": \"many\", \"age\": 10, \"sex\": \"male\"}"
   ]
  },
  {
   "cell_type": "markdown",
   "id": "e7424509",
   "metadata": {},
   "source": [
    "## json数据转成dict字典"
   ]
  },
  {
   "cell_type": "code",
   "execution_count": 4,
   "id": "5f0a5f02",
   "metadata": {},
   "outputs": [
    {
     "name": "stdout",
     "output_type": "stream",
     "text": [
      "{'id': '007', 'name': '007', 'age': 28, 'sex': 'male', 'phone': '13000000000', 'email': '123@qq.com'}\n"
     ]
    }
   ],
   "source": [
    "j = '{\"id\": \"007\", \"name\": \"007\", \"age\": 28, \"sex\": \"male\", \"phone\": \"13000000000\", \"email\": \"123@qq.com\"}'\n",
    "dict = json.loads(s=j)\n",
    "print(dict)  # {'id': '007', 'name': '007', 'age': 28, 'sex': 'male', 'phone': '13000000000', 'email': '123@qq.com'}"
   ]
  },
  {
   "cell_type": "markdown",
   "id": "dad57c38",
   "metadata": {},
   "source": [
    "## `dump()`方法的使用"
   ]
  },
  {
   "cell_type": "code",
   "execution_count": 5,
   "id": "9b7f36e9",
   "metadata": {},
   "outputs": [
    {
     "name": "stdout",
     "output_type": "stream",
     "text": [
      "{'name': 'many', 'age': 10, 'sex': 'male'}\n"
     ]
    }
   ],
   "source": [
    "dict = {}\n",
    "dict['name'] = 'many'\n",
    "dict['age'] = 10\n",
    "dict['sex'] = 'male'\n",
    "print(dict)  # {'name': 'many', 'age': 10, 'sex': 'male'}\n",
    "with open('1.json', 'w') as f:\n",
    "    json.dump(dict, f)  # 会在目录下生成一个1.json的文件，文件内容是dict数据转成的json数据"
   ]
  },
  {
   "cell_type": "markdown",
   "id": "5106b67c",
   "metadata": {},
   "source": [
    "## `load()`的使用"
   ]
  },
  {
   "cell_type": "code",
   "execution_count": 6,
   "id": "0b3eae09",
   "metadata": {},
   "outputs": [
    {
     "name": "stdout",
     "output_type": "stream",
     "text": [
      "{'name': 'many', 'age': 10, 'sex': 'male'}\n"
     ]
    }
   ],
   "source": [
    "with open('1.json', 'r') as f:\n",
    "    dict = json.load(fp=f)\n",
    "    print(dict)  # {'name': 'many', 'age': 10, 'sex': 'male'}"
   ]
  },
  {
   "cell_type": "markdown",
   "id": "2bbfebbf",
   "metadata": {},
   "source": [
    "#  用Python访问网站"
   ]
  },
  {
   "cell_type": "code",
   "execution_count": 7,
   "id": "c9fa0233",
   "metadata": {},
   "outputs": [
    {
     "data": {
      "text/plain": [
       "'<!DOCTYPE html>\\n<html lang=\"zh-CN\">\\n<head>\\n    <meta charset=\"utf-8\">\\n    <title>ç\\x99¾åº¦å®\\x89å\\x85¨éª\\x8cè¯\\x81</title>\\n    <meta http-equiv=\"Content-Type\" content=\"text/html; charset=utf-8\">\\n    <meta name=\"apple-mobile-web-app-capable\" content=\"yes\">\\n    <meta name=\"apple-mobile-web-app-status-bar-style\" content=\"black\">\\n    <meta name=\"viewport\" content=\"width=device-width, user-scalable=no, initial-scale=1.0, minimum-scale=1.0, maximum-scale=1.0\">\\n    <meta name=\"format-detection\" content=\"telephone=no, email=no\">\\n    <link rel=\"shortcut icon\" href=\"https://www.baidu.com/favicon.ico\" type=\"image/x-icon\">\\n    <link rel=\"icon\" sizes=\"any\" mask href=\"https://www.baidu.com/img/baidu.svg\">\\n    <meta http-equiv=\"X-UA-Compatible\" content=\"IE=Edge\">\\n    <meta http-equiv=\"Content-Security-Policy\" content=\"upgrade-insecure-requests\">\\n    <link rel=\"stylesheet\" href=\"https://ppui-static-wap.cdn.bcebos.com/static/touch/css/api/mkdjump_0635445.css\" />\\n</head>\\n<body>\\n    <div class=\"timeout hide\">\\n        <div class=\"timeout-img\"></div>\\n        <div class=\"timeout-title\">ç½\\x91ç»\\x9cä¸\\x8dç»\\x99å\\x8a\\x9bï¼\\x8cè¯·ç¨\\x8då\\x90\\x8eé\\x87\\x8dè¯\\x95</div>\\n        <button type=\"button\" class=\"timeout-button\">è¿\\x94å\\x9b\\x9eé¦\\x96é¡µ</button>\\n    </div>\\n    <div class=\"timeout-feedback hide\">\\n        <div class=\"timeout-feedback-icon\"></div>\\n        <p class=\"timeout-feedback-title\">é\\x97®é¢\\x98å\\x8f\\x8dé¦\\x88</p>\\n    </div>\\n\\n<script src=\"https://wappass.baidu.com/static/machine/js/api/mkd.js\"></script>\\n<script src=\"https://ppui-static-wap.cdn.bcebos.com/static/touch/js/mkdjump_db105ab.js\"></script>\\n</body>\\n</html>'"
      ]
     },
     "execution_count": 7,
     "metadata": {},
     "output_type": "execute_result"
    }
   ],
   "source": [
    "import requests\n",
    "r = requests.get(\"https://tieba.baidu.com/f?kw=显卡\")\n",
    "r.text"
   ]
  },
  {
   "cell_type": "markdown",
   "id": "2f90fa9f",
   "metadata": {},
   "source": [
    "# 调用API\n",
    "\n",
    "给API发送参数\n",
    "\n",
    "`payload = {'key1': 'value1', 'key2': 'value2'}\n",
    "r = requests.get('https://httpbin.org/get', params=payload)`"
   ]
  },
  {
   "cell_type": "markdown",
   "id": "10091d9c",
   "metadata": {},
   "source": [
    "## 百度地图API\n",
    "百度地图开发者平台： *https://lbsyun.baidu.com*\n",
    "\n",
    "API介绍： *https://lbsyun.baidu.com/index.php?title=webapi*"
   ]
  },
  {
   "cell_type": "markdown",
   "id": "73e1853d",
   "metadata": {},
   "source": [
    "### 地理编码\n",
    "*https://lbsyun.baidu.com/index.php?title=webapi/guide/webservice-geocoding*"
   ]
  },
  {
   "cell_type": "code",
   "execution_count": 8,
   "id": "a14818fb",
   "metadata": {},
   "outputs": [],
   "source": [
    "para = {'address':'广州市南沙区香港科技大学（广州）','city':' 广州市','ak':'XXXX','output':'json'}\n",
    "geocode = requests.get('https://api.map.baidu.com/geocoding/v3/', params=para)"
   ]
  },
  {
   "cell_type": "code",
   "execution_count": 12,
   "id": "2e4618a6",
   "metadata": {},
   "outputs": [
    {
     "data": {
      "text/plain": [
       "{'status': 0,\n",
       " 'result': {'location': {'lng': 113.61761295567551, 'lat': 22.755816480949317},\n",
       "  'precise': 1,\n",
       "  'confidence': 70,\n",
       "  'comprehension': 100,\n",
       "  'level': '教育'}}"
      ]
     },
     "execution_count": 12,
     "metadata": {},
     "output_type": "execute_result"
    }
   ],
   "source": [
    "geocode.json()"
   ]
  },
  {
   "cell_type": "code",
   "execution_count": 10,
   "id": "76d69246",
   "metadata": {},
   "outputs": [
    {
     "data": {
      "text/plain": [
       "{'status': 0,\n",
       " 'result': {'location': {'lng': 113.61761295567551, 'lat': 22.755816480949317},\n",
       "  'precise': 1,\n",
       "  'confidence': 70,\n",
       "  'comprehension': 100,\n",
       "  'level': '教育'}}"
      ]
     },
     "execution_count": 10,
     "metadata": {},
     "output_type": "execute_result"
    }
   ],
   "source": [
    "dict_geocode = json.loads(geocode.text)\n",
    "dict_geocode"
   ]
  },
  {
   "cell_type": "code",
   "execution_count": 15,
   "id": "c74d7f2a",
   "metadata": {},
   "outputs": [
    {
     "data": {
      "text/plain": [
       "{'lng': 113.61761295567551, 'lat': 22.755816480949317}"
      ]
     },
     "execution_count": 15,
     "metadata": {},
     "output_type": "execute_result"
    }
   ],
   "source": [
    "dict_geocode['result']['location']"
   ]
  },
  {
   "cell_type": "markdown",
   "id": "edfc2ab7",
   "metadata": {},
   "source": [
    "另一种方式"
   ]
  },
  {
   "cell_type": "code",
   "execution_count": 13,
   "id": "a78f47f9",
   "metadata": {},
   "outputs": [
    {
     "data": {
      "text/plain": [
       "'https://api.map.baidu.com/geocoding/v3/?address=广州市南沙区香港科技大学（广州）&city=广州市&output=json&ak=zIPv2qeQknxMP25ERU2g4iqBW4YymRA7&callback=showLocation'"
      ]
     },
     "execution_count": 13,
     "metadata": {},
     "output_type": "execute_result"
    }
   ],
   "source": [
    "address = '广州市南沙区香港科技大学（广州）'\n",
    "city = '广州市'\n",
    "ak = 'XXXX'\n",
    "output = 'json'\n",
    "url = f'https://api.map.baidu.com/geocoding/v3/?address={address}&city={city}&output={output}&ak={ak}&callback=showLocation'\n",
    "url"
   ]
  },
  {
   "cell_type": "code",
   "execution_count": 14,
   "id": "1c3b6bd2",
   "metadata": {},
   "outputs": [
    {
     "data": {
      "text/plain": [
       "'showLocation&&showLocation({\"status\":0,\"result\":{\"location\":{\"lng\":113.61761295567551,\"lat\":22.755816480949318},\"precise\":1,\"confidence\":70,\"comprehension\":100,\"level\":\"教育\"}})'"
      ]
     },
     "execution_count": 14,
     "metadata": {},
     "output_type": "execute_result"
    }
   ],
   "source": [
    "geocode1 = requests.get(url)\n",
    "geocode1.text"
   ]
  },
  {
   "cell_type": "markdown",
   "id": "25a48add",
   "metadata": {},
   "source": [
    "## 百度智能云API\n",
    "简单的AI应用\n",
    "\n",
    "*https://cloud.baidu.com*"
   ]
  },
  {
   "cell_type": "markdown",
   "id": "57699ece",
   "metadata": {},
   "source": [
    "### 图像识别\n",
    "\n",
    "*https://ai.baidu.com/ai-doc/IMAGERECOGNITION/Kk3bcxbxj*\n",
    "\n",
    "获取access_token"
   ]
  },
  {
   "cell_type": "code",
   "execution_count": 17,
   "id": "97e9a143",
   "metadata": {},
   "outputs": [],
   "source": [
    "client_id = 'XXXXX'\n",
    "client_secret = 'XXXX'\n",
    "host = f'https://aip.baidubce.com/oauth/2.0/token?grant_type=client_credentials&client_id={client_id}&client_secret={client_secret}'\n",
    "response = requests.get(host).json()"
   ]
  },
  {
   "cell_type": "code",
   "execution_count": null,
   "id": "ebaced90",
   "metadata": {},
   "outputs": [],
   "source": [
    "response['access_token']"
   ]
  },
  {
   "cell_type": "code",
   "execution_count": 19,
   "id": "c52b437b",
   "metadata": {},
   "outputs": [
    {
     "name": "stdout",
     "output_type": "stream",
     "text": [
      "{'result_num': 5, 'result': [{'keyword': '新垣结衣', 'score': 0.88125, 'root': '公众人物'}, {'keyword': '美女', 'score': 0.714214, 'root': '人物-人物特写'}, {'keyword': '文胸', 'score': 0.517051, 'root': '商品-保健器械'}, {'keyword': '背心', 'score': 0.326251, 'root': '商品-服装'}, {'keyword': '吊带睡衣', 'score': 0.143575, 'root': '商品-服装'}], 'log_id': 1574730933413167072}\n"
     ]
    }
   ],
   "source": [
    "# encoding:utf-8\n",
    "\n",
    "import base64\n",
    "from PIL import Image\n",
    "from io import BytesIO\n",
    "\n",
    "'''\n",
    "通用物体和场景识别\n",
    "'''\n",
    "\n",
    "request_url = \"https://aip.baidubce.com/rest/2.0/image-classify/v2/advanced_general\"\n",
    "# 二进制方式打开图片文件\n",
    "f = open('img.jpeg', 'rb')\n",
    "img = base64.b64encode(f.read())\n",
    "\n",
    "params = {\"image\":img}\n",
    "access_token = response['access_token']\n",
    "request_url = request_url + \"?access_token=\" + access_token\n",
    "headers = {'content-type': 'application/x-www-form-urlencoded'}\n",
    "response = requests.post(request_url, data=params, headers=headers)\n",
    "if response:\n",
    "    print (response.json())"
   ]
  },
  {
   "cell_type": "code",
   "execution_count": 20,
   "id": "e66f7a42",
   "metadata": {},
   "outputs": [
    {
     "data": {
      "text/plain": [
       "'新垣结衣'"
      ]
     },
     "execution_count": 20,
     "metadata": {},
     "output_type": "execute_result"
    }
   ],
   "source": [
    "response.json()['result'][0]['keyword']"
   ]
  },
  {
   "cell_type": "markdown",
   "id": "60166033",
   "metadata": {},
   "source": [
    "# 问题\n",
    "\n",
    "怎么把API和pandas结合起来？"
   ]
  }
 ],
 "metadata": {
  "kernelspec": {
   "display_name": "Python 3 (ipykernel)",
   "language": "python",
   "name": "python3"
  },
  "language_info": {
   "codemirror_mode": {
    "name": "ipython",
    "version": 3
   },
   "file_extension": ".py",
   "mimetype": "text/x-python",
   "name": "python",
   "nbconvert_exporter": "python",
   "pygments_lexer": "ipython3",
   "version": "3.8.2"
  }
 },
 "nbformat": 4,
 "nbformat_minor": 5
}
